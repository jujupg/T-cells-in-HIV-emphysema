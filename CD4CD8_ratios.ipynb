{
 "cells": [
  {
   "cell_type": "code",
   "execution_count": 1,
   "metadata": {},
   "outputs": [],
   "source": [
    "import pandas as pd"
   ]
  },
  {
   "cell_type": "markdown",
   "metadata": {},
   "source": [
    "First we start by importing the publicly-available data set from the study. We then define a function to change commas to fullstops and convert the resulting strings to floats."
   ]
  },
  {
   "cell_type": "code",
   "execution_count": null,
   "metadata": {},
   "outputs": [],
   "source": [
    "data = pd.read_csv('TCell (1).csv', sep = ';') #sep makes the semicolons become columns \n",
    "\n",
    "def clean_cell(cell):\n",
    "    if isinstance(cell, str) and ',' in cell:\n",
    "        commas_replaced = cell.replace(',', '.')\n",
    "        float_form = float(commas_replaced)\n",
    "        return float_form\n",
    "    else:\n",
    "        return cell\n",
    "\n",
    "data = data.applymap(clean_cell)"
   ]
  },
  {
   "cell_type": "code",
   "execution_count": 9,
   "metadata": {},
   "outputs": [],
   "source": [
    "data.index += 1"
   ]
  },
  {
   "cell_type": "markdown",
   "metadata": {},
   "source": [
    "we then must remove patients who did not have a recorded emphysema severity"
   ]
  },
  {
   "cell_type": "code",
   "execution_count": 82,
   "metadata": {},
   "outputs": [],
   "source": [
    "data = data.dropna(subset = ['emphysema_severity'])"
   ]
  },
  {
   "cell_type": "markdown",
   "metadata": {},
   "source": [
    "Next, I decided to create a bar chart comparing the CD4/CD8 ratios between smokers and non-smokers. To do this, I converted the respective CD4/CD8 ratios of smokers and non smokers into lists."
   ]
  },
  {
   "cell_type": "code",
   "execution_count": 22,
   "metadata": {},
   "outputs": [],
   "source": [
    "non_smoker_cd4_cd8 = data['cd4_cd8_ratio'][data['smoking_status'] == 'never smoker'].astype(float).tolist()\n",
    "smoker_cd4_cd8 = data['cd4_cd8_ratio'][data['smoking_status'] != 'never smoker'].astype(float).tolist()"
   ]
  },
  {
   "cell_type": "markdown",
   "metadata": {},
   "source": [
    "Then, I found the mean and standard deviation of the ratios for non smokers and smokers."
   ]
  },
  {
   "cell_type": "code",
   "execution_count": 23,
   "metadata": {},
   "outputs": [],
   "source": [
    "# mean/SD non-smoking cd4/cd8\n",
    "total_sum = 0\n",
    "for number in non_smoker_cd4_cd8:\n",
    "    total_sum += number\n",
    "mean_nonsmoker = total_sum / len(non_smoker_cd4_cd8)\n",
    "\n",
    "total_sum = 0\n",
    "for number in non_smoker_cd4_cd8:\n",
    "    difference = abs(number - mean_nonsmoker)\n",
    "    total_sum += difference\n",
    "SD_nonsmoker = total_sum / len(non_smoker_cd4_cd8)"
   ]
  },
  {
   "cell_type": "code",
   "execution_count": 24,
   "metadata": {},
   "outputs": [],
   "source": [
    "# mean/SD smoking cd4/cd8\n",
    "total_sum = 0\n",
    "for number in smoker_cd4_cd8:\n",
    "    total_sum += number\n",
    "mean_smoker = total_sum / len(smoker_cd4_cd8)\n",
    "\n",
    "total_sum = 0\n",
    "for number in smoker_cd4_cd8:\n",
    "    difference = abs(number - mean_smoker)\n",
    "    total_sum += difference\n",
    "SD_smoker = total_sum / len(smoker_cd4_cd8)"
   ]
  },
  {
   "cell_type": "markdown",
   "metadata": {},
   "source": [
    "Finally, I presented the data as a bar chart using matplotlib. I used the standard deviation as error bars and the mean as the y axis. The X axis was whether or not the participants were smokers."
   ]
  },
  {
   "cell_type": "code",
   "execution_count": 25,
   "metadata": {},
   "outputs": [
    {
     "data": {
      "image/png": "[encoded data removed]",
      "text/plain": [
       "<Figure size 432x288 with 1 Axes>"
      ]
     },
     "metadata": {
      "needs_background": "light"
     },
     "output_type": "display_data"
    }
   ],
   "source": [
    "import matplotlib.pyplot as plt\n",
    "\n",
    "plt.bar(x = ['smoker', 'non-smoker'], height = [mean_smoker, mean_nonsmoker], \n",
    "        color = 'pink', yerr = [SD_smoker, SD_nonsmoker])\n",
    "plt.xlabel('smoking status')\n",
    "plt.ylabel('CD4/ CD8 ratio')\n",
    "plt.title('CD4/ CD8 ratio in smoking vs. non-smoking HIV patients')\n",
    "plt.savefig('smoker_chart.png')"
   ]
  },
  {
   "cell_type": "markdown",
   "metadata": {},
   "source": [
    "I then decided to create a similar bar chart comparing CD4/CD8 ratios between the participants with varying levels of emphysema severity. First, I used value counts to find the range of values for severity in the dataframe."
   ]
  },
  {
   "cell_type": "code",
   "execution_count": 29,
   "metadata": {},
   "outputs": [
    {
     "data": {
      "text/plain": [
       "0.0    70\n",
       "1.0    43\n",
       "2.0    29\n",
       "4.0    12\n",
       "3.0    10\n",
       "Name: emphysema_severity, dtype: int64"
      ]
     },
     "execution_count": 29,
     "metadata": {},
     "output_type": "execute_result"
    }
   ],
   "source": [
    "data['emphysema_severity'].value_counts()"
   ]
  },
  {
   "cell_type": "markdown",
   "metadata": {},
   "source": [
    "Next, I decided I wanted to identify outliers first with a scatter plot. To do this, I started by converting the relevant data into lists."
   ]
  },
  {
   "cell_type": "code",
   "execution_count": 83,
   "metadata": {},
   "outputs": [],
   "source": [
    "emphysema_severity = data['emphysema_severity'].astype(int).tolist()\n",
    "cd4_cd8_ratio = data['cd4_cd8_ratio'].astype(float).tolist()"
   ]
  },
  {
   "cell_type": "markdown",
   "metadata": {},
   "source": [
    "I made the scatter plot using matplotlib, with the x axis being the emphysema severity, and the y axis being the CD4/CD8 ratio"
   ]
  },
  {
   "cell_type": "code",
   "execution_count": 84,
   "metadata": {},
   "outputs": [
    {
     "data": {
      "text/plain": [
       "Text(0, 0.5, 'CD4/ CD8 ratio')"
      ]
     },
     "execution_count": 84,
     "metadata": {},
     "output_type": "execute_result"
    },
    {
     "data": {
      "image/png": "[encoded data removed]",
      "text/plain": [
       "<Figure size 432x288 with 1 Axes>"
      ]
     },
     "metadata": {
      "needs_background": "light"
     },
     "output_type": "display_data"
    }
   ],
   "source": [
    "import matplotlib.pyplot as plt\n",
    "plt.scatter( x = emphysema_severity, y = cd4_cd8_ratio)\n",
    "plt.xlabel('emphysema severity')\n",
    "plt.ylabel('CD4/ CD8 ratio')"
   ]
  },
  {
   "cell_type": "markdown",
   "metadata": {},
   "source": [
    "I identified the outliers as any participant with a CD4/CD8 ratio above 2.0 and returned to my original goal of the bar chart.\n",
    "To start, I created a dictionary with the emphysema severities as the key, and the CD4/CD8 ratios as the values.\n"
   ]
  },
  {
   "cell_type": "code",
   "execution_count": 108,
   "metadata": {},
   "outputs": [],
   "source": [
    "severity_levels = data['emphysema_severity'].unique()\n",
    "cd4_cd8_ratios = {}\n",
    "\n",
    "for level in severity_levels:\n",
    "    cd4_cd8_ratios[level] = data['cd4_cd8_ratio'][data['emphysema_severity'] == level].astype(float).tolist()"
   ]
  },
  {
   "cell_type": "markdown",
   "metadata": {},
   "source": [
    "I removed the outliers (with a ratio above 2.0) using a for loop."
   ]
  },
  {
   "cell_type": "code",
   "execution_count": 119,
   "metadata": {},
   "outputs": [],
   "source": [
    "#remove outliers\n",
    "for ratios in cd4_cd8_ratios.values():\n",
    "    for num in ratios:\n",
    "        if num > 2.0:\n",
    "            ratios.remove(num)"
   ]
  },
  {
   "cell_type": "markdown",
   "metadata": {},
   "source": [
    "I assigned the values of the dictionary to variables to make it easier for me to work with. "
   ]
  },
  {
   "cell_type": "code",
   "execution_count": 121,
   "metadata": {},
   "outputs": [],
   "source": [
    "emphysema_0 = cd4_cd8_ratios[0.0]\n",
    "emphysema_1 = cd4_cd8_ratios[1.0]\n",
    "emphysema_2 = cd4_cd8_ratios[2.0]\n",
    "emphysema_3 = cd4_cd8_ratios[3.0]\n",
    "emphysema_4 = cd4_cd8_ratios[4.0]"
   ]
  },
  {
   "cell_type": "markdown",
   "metadata": {},
   "source": [
    "I created a function calculating the mean and standard deviation of each list of integers."
   ]
  },
  {
   "cell_type": "code",
   "execution_count": 133,
   "metadata": {},
   "outputs": [],
   "source": [
    "def find_mean_and_SD(num_list):\n",
    "    total_sum = 0\n",
    "    for number in num_list:\n",
    "        total_sum += number\n",
    "    mean = total_sum / len(num_list)\n",
    "    \n",
    "    for number in num_list:\n",
    "        SD = sum([abs(number - mean) for number in num_list]) / len(num_list)\n",
    "\n",
    "    return mean, SD"
   ]
  },
  {
   "cell_type": "markdown",
   "metadata": {},
   "source": [
    "I ran each variable through the function and then assigned the mean and standardard deviations to their own variables."
   ]
  },
  {
   "cell_type": "code",
   "execution_count": 142,
   "metadata": {},
   "outputs": [],
   "source": [
    "#mean emphysema_0\n",
    "mean_e0, SD_e0 = find_mean_and_SD(emphysema_0)"
   ]
  },
  {
   "cell_type": "code",
   "execution_count": 136,
   "metadata": {},
   "outputs": [],
   "source": [
    "#mean emphysema_1\n",
    "mean_e1, SD_e1 = find_mean_and_SD(emphysema_1)"
   ]
  },
  {
   "cell_type": "code",
   "execution_count": 139,
   "metadata": {},
   "outputs": [],
   "source": [
    "#mean emphysema_2\n",
    "mean_e2, SD_e2 = find_mean_and_SD(emphysema_2)"
   ]
  },
  {
   "cell_type": "code",
   "execution_count": 138,
   "metadata": {},
   "outputs": [],
   "source": [
    "#mean emphysema_3\n",
    "mean_e3, SD_e3 = find_mean_and_SD(emphysema_3)"
   ]
  },
  {
   "cell_type": "code",
   "execution_count": 140,
   "metadata": {},
   "outputs": [],
   "source": [
    "#mean empysema_4\n",
    "mean_e4, SD_e4 = find_mean_and_SD(emphysema_3)"
   ]
  },
  {
   "cell_type": "markdown",
   "metadata": {},
   "source": [
    "Next, I turned my data into a bar chart with the x axis being emphysema severity and the y axis being the mean CD4/CD8 ratio for each severity. The standard deviation was used to make error bars. "
   ]
  },
  {
   "cell_type": "code",
   "execution_count": 179,
   "metadata": {},
   "outputs": [
    {
     "data": {
      "text/plain": [
       "Text(3.5, 0.9, 'p = 0.043')"
      ]
     },
     "execution_count": 179,
     "metadata": {},
     "output_type": "execute_result"
    },
    {
     "data": {
      "image/png": "[encoded data removed]",
      "text/plain": [
       "<Figure size 432x288 with 1 Axes>"
      ]
     },
     "metadata": {
      "needs_background": "light"
     },
     "output_type": "display_data"
    }
   ],
   "source": [
    "import matplotlib.pyplot as plt\n",
    "plt.bar (x = ['0', '1', '2', '3', '4'], height = [mean_e0, mean_e1, mean_e2, mean_e3, mean_e4], \n",
    "        color = 'yellow', yerr = [SD_e0, SD_e1, SD_e2, SD_e3, SD_e4])\n",
    "plt.xlabel('emphysema severity')\n",
    "plt.ylabel('average CD4/ CD8 ratio')\n",
    "plt.title('does CD4/ CD8 ratio impact the severity of emphysema in HIV patients?')\n",
    "plt.annotate('p = ' + str(round(p_value, 3)), (3.5, 0.9))"
   ]
  },
  {
   "cell_type": "markdown",
   "metadata": {},
   "source": [
    "I then decided to go a step further and calculate the P-value for the data. I did so using scipy and the linregress function. I then added the P-value as an annotation above using the .annotate method. "
   ]
  },
  {
   "cell_type": "code",
   "execution_count": 169,
   "metadata": {},
   "outputs": [],
   "source": [
    "from scipy.stats import linregress\n",
    "\n",
    "x = data['cd4_cd8_ratio'][data['cd4_cd8_ratio'].astype(float) <= 2].astype(float)\n",
    "y = data['emphysema_severity'][data['cd4_cd8_ratio'].astype(float) <= 2].astype(float)\n",
    "\n",
    "slope, intercept, r_value, p_value, std_err = linregress(x,y)"
   ]
  },
  {
   "cell_type": "code",
   "execution_count": null,
   "metadata": {},
   "outputs": [],
   "source": []
  }
 ],
 "metadata": {
  "kernelspec": {
   "display_name": "Python 3",
   "language": "python",
   "name": "python3"
  },
  "language_info": {
   "codemirror_mode": {
    "name": "ipython",
    "version": 3
   },
   "file_extension": ".py",
   "mimetype": "text/x-python",
   "name": "python",
   "nbconvert_exporter": "python",
   "pygments_lexer": "ipython3",
   "version": "3.8.3"
  }
 },
 "nbformat": 4,
 "nbformat_minor": 4
}
